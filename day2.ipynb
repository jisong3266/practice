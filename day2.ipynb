{
  "nbformat": 4,
  "nbformat_minor": 0,
  "metadata": {
    "colab": {
      "provenance": [],
      "authorship_tag": "ABX9TyP1cC8f5I+KeOT5svyxnMrD",
      "include_colab_link": true
    },
    "kernelspec": {
      "name": "python3",
      "display_name": "Python 3"
    },
    "language_info": {
      "name": "python"
    }
  },
  "cells": [
    {
      "cell_type": "markdown",
      "metadata": {
        "id": "view-in-github",
        "colab_type": "text"
      },
      "source": [
        "<a href=\"https://colab.research.google.com/github/jisong3266/practice/blob/main/day2.ipynb\" target=\"_parent\"><img src=\"https://colab.research.google.com/assets/colab-badge.svg\" alt=\"Open In Colab\"/></a>"
      ]
    },
    {
      "cell_type": "code",
      "source": [
        "vending_machine = ['게토레이','레쓰비','생수','이프로']\n",
        "while(1):\n",
        "  count = 0\n",
        "  print(\"============= RESTART\")\n",
        "  a = input(\"마시고 싶은 음료? \")\n",
        "  for i in range(0,4):\n",
        "    if(a == vending_machine[i]):\n",
        "      print(f\"{a} 드릴게요\")\n",
        "      count += 1\n",
        "  if(count == 0):\n",
        "    print(f\"{a}는 지금 없네요\")"
      ],
      "metadata": {
        "id": "MvEJAgjbn9Ru"
      },
      "execution_count": null,
      "outputs": []
    },
    {
      "cell_type": "code",
      "source": [
        "n = int(input())\n",
        "a = list(range(1,n+1))\n",
        "print(a[0::2])\n",
        "print(a[1::2])"
      ],
      "metadata": {
        "colab": {
          "base_uri": "https://localhost:8080/",
          "height": 261
        },
        "id": "rKL8Fx1ugeLM",
        "outputId": "bafb6425-a4d7-46d3-e064-eb5d09cf8c63"
      },
      "execution_count": null,
      "outputs": [
        {
          "name": "stdout",
          "output_type": "stream",
          "text": [
            "10\n"
          ]
        },
        {
          "output_type": "error",
          "ename": "TypeError",
          "evalue": "ignored",
          "traceback": [
            "\u001b[0;31m---------------------------------------------------------------------------\u001b[0m",
            "\u001b[0;31mTypeError\u001b[0m                                 Traceback (most recent call last)",
            "\u001b[0;32m<ipython-input-23-3ec698a4c127>\u001b[0m in \u001b[0;36m<cell line: 2>\u001b[0;34m()\u001b[0m\n\u001b[1;32m      1\u001b[0m \u001b[0mn\u001b[0m \u001b[0;34m=\u001b[0m \u001b[0mint\u001b[0m\u001b[0;34m(\u001b[0m\u001b[0minput\u001b[0m\u001b[0;34m(\u001b[0m\u001b[0;34m)\u001b[0m\u001b[0;34m)\u001b[0m\u001b[0;34m\u001b[0m\u001b[0;34m\u001b[0m\u001b[0m\n\u001b[0;32m----> 2\u001b[0;31m \u001b[0ma\u001b[0m \u001b[0;34m=\u001b[0m \u001b[0mlist\u001b[0m\u001b[0;34m(\u001b[0m\u001b[0mrange\u001b[0m\u001b[0;34m(\u001b[0m\u001b[0;36m1\u001b[0m\u001b[0;34m,\u001b[0m\u001b[0mn\u001b[0m\u001b[0;34m+\u001b[0m\u001b[0;36m1\u001b[0m\u001b[0;34m)\u001b[0m\u001b[0;34m)\u001b[0m\u001b[0;34m\u001b[0m\u001b[0;34m\u001b[0m\u001b[0m\n\u001b[0m\u001b[1;32m      3\u001b[0m \u001b[0mprint\u001b[0m\u001b[0;34m(\u001b[0m\u001b[0ma\u001b[0m\u001b[0;34m[\u001b[0m\u001b[0;36m0\u001b[0m\u001b[0;34m:\u001b[0m\u001b[0;34m:\u001b[0m\u001b[0;36m2\u001b[0m\u001b[0;34m]\u001b[0m\u001b[0;34m)\u001b[0m\u001b[0;34m\u001b[0m\u001b[0;34m\u001b[0m\u001b[0m\n\u001b[1;32m      4\u001b[0m \u001b[0mprint\u001b[0m\u001b[0;34m(\u001b[0m\u001b[0ma\u001b[0m\u001b[0;34m[\u001b[0m\u001b[0;36m1\u001b[0m\u001b[0;34m:\u001b[0m\u001b[0;34m:\u001b[0m\u001b[0;36m2\u001b[0m\u001b[0;34m]\u001b[0m\u001b[0;34m)\u001b[0m\u001b[0;34m\u001b[0m\u001b[0;34m\u001b[0m\u001b[0m\n",
            "\u001b[0;31mTypeError\u001b[0m: 'list' object is not callable"
          ]
        }
      ]
    },
    {
      "cell_type": "code",
      "source": [
        "vending_machine = ['게토레이','게토레이','레쓰비','레쓰비','생수','생수','생수','이프로']\n",
        "while(1):\n",
        "  print(\"사용자 종류를 입력하세요:\")\n",
        "  print(\"1. 소비자\")\n",
        "  print(\"2. 주인\")\n",
        "  a = input()\n",
        "  if(a == \"주인\"):\n",
        "    print(\"할 일 선택:\")\n",
        "    print(\"1.추가\")\n",
        "    print(\"2.삭제\")\n",
        "    b = input()\n",
        "    print(f\"남은 음료수:{vending_machine}\")\n",
        "    if(b == \"추가\"):\n",
        "      c = input(\"추가할 음료수?\")\n",
        "      vending_machine.append(c)\n",
        "      print(\"추가 완료\")\n",
        "      print(f\"남은 음료수: {sorted(vending_machine)}\")\n",
        "    elif(b == \"삭제\"):\n",
        "      count = 0\n",
        "      c = input(\"삭제할 음료수?\")\n",
        "      if(c in vending_machine):\n",
        "          vending_machine.remove(c)\n",
        "          print(\"삭제 완료\")\n",
        "          print(f\"남은 음료수: {vending_machine}\")\n",
        "      else:\n",
        "        print(f\"{c}는 지금 없네요\")\n",
        "    else:\n",
        "      print(\"잘못된 입력입니다\")\n",
        "  elif(a == \"소비자\"):\n",
        "    count = 0\n",
        "    a = input(\"마시고 싶은 음료? \")\n",
        "    if(a in vending_machine):\n",
        "        print(f\"{a} 드릴게요\")\n",
        "        vending_machine.remove(a)\n",
        "    else:\n",
        "      print(f\"{a}는 지금 없네요\")\n",
        "  else:\n",
        "    print(\"잘못된 입력입니다\")"
      ],
      "metadata": {
        "colab": {
          "base_uri": "https://localhost:8080/",
          "height": 490
        },
        "id": "EU9vEnvGqSWj",
        "outputId": "5f4d9db2-babd-4c4b-ac45-a1291d7fbdc0"
      },
      "execution_count": null,
      "outputs": [
        {
          "output_type": "stream",
          "name": "stdout",
          "text": [
            "사용자 종류를 입력하세요:\n",
            "1. 소비자\n",
            "2. 주인\n"
          ]
        },
        {
          "output_type": "error",
          "ename": "KeyboardInterrupt",
          "evalue": "ignored",
          "traceback": [
            "\u001b[0;31m---------------------------------------------------------------------------\u001b[0m",
            "\u001b[0;31mKeyboardInterrupt\u001b[0m                         Traceback (most recent call last)",
            "\u001b[0;32m<ipython-input-40-ea2cce159d86>\u001b[0m in \u001b[0;36m<cell line: 2>\u001b[0;34m()\u001b[0m\n\u001b[1;32m      4\u001b[0m   \u001b[0mprint\u001b[0m\u001b[0;34m(\u001b[0m\u001b[0;34m\"1. 소비자\"\u001b[0m\u001b[0;34m)\u001b[0m\u001b[0;34m\u001b[0m\u001b[0;34m\u001b[0m\u001b[0m\n\u001b[1;32m      5\u001b[0m   \u001b[0mprint\u001b[0m\u001b[0;34m(\u001b[0m\u001b[0;34m\"2. 주인\"\u001b[0m\u001b[0;34m)\u001b[0m\u001b[0;34m\u001b[0m\u001b[0;34m\u001b[0m\u001b[0m\n\u001b[0;32m----> 6\u001b[0;31m   \u001b[0ma\u001b[0m \u001b[0;34m=\u001b[0m \u001b[0minput\u001b[0m\u001b[0;34m(\u001b[0m\u001b[0;34m)\u001b[0m\u001b[0;34m\u001b[0m\u001b[0;34m\u001b[0m\u001b[0m\n\u001b[0m\u001b[1;32m      7\u001b[0m   \u001b[0;32mif\u001b[0m\u001b[0;34m(\u001b[0m\u001b[0ma\u001b[0m \u001b[0;34m==\u001b[0m \u001b[0;34m\"주인\"\u001b[0m\u001b[0;34m)\u001b[0m\u001b[0;34m:\u001b[0m\u001b[0;34m\u001b[0m\u001b[0;34m\u001b[0m\u001b[0m\n\u001b[1;32m      8\u001b[0m     \u001b[0mprint\u001b[0m\u001b[0;34m(\u001b[0m\u001b[0;34m\"할 일 선택:\"\u001b[0m\u001b[0;34m)\u001b[0m\u001b[0;34m\u001b[0m\u001b[0;34m\u001b[0m\u001b[0m\n",
            "\u001b[0;32m/usr/local/lib/python3.10/dist-packages/ipykernel/kernelbase.py\u001b[0m in \u001b[0;36mraw_input\u001b[0;34m(self, prompt)\u001b[0m\n\u001b[1;32m    849\u001b[0m                 \u001b[0;34m\"raw_input was called, but this frontend does not support input requests.\"\u001b[0m\u001b[0;34m\u001b[0m\u001b[0;34m\u001b[0m\u001b[0m\n\u001b[1;32m    850\u001b[0m             )\n\u001b[0;32m--> 851\u001b[0;31m         return self._input_request(str(prompt),\n\u001b[0m\u001b[1;32m    852\u001b[0m             \u001b[0mself\u001b[0m\u001b[0;34m.\u001b[0m\u001b[0m_parent_ident\u001b[0m\u001b[0;34m,\u001b[0m\u001b[0;34m\u001b[0m\u001b[0;34m\u001b[0m\u001b[0m\n\u001b[1;32m    853\u001b[0m             \u001b[0mself\u001b[0m\u001b[0;34m.\u001b[0m\u001b[0m_parent_header\u001b[0m\u001b[0;34m,\u001b[0m\u001b[0;34m\u001b[0m\u001b[0;34m\u001b[0m\u001b[0m\n",
            "\u001b[0;32m/usr/local/lib/python3.10/dist-packages/ipykernel/kernelbase.py\u001b[0m in \u001b[0;36m_input_request\u001b[0;34m(self, prompt, ident, parent, password)\u001b[0m\n\u001b[1;32m    893\u001b[0m             \u001b[0;32mexcept\u001b[0m \u001b[0mKeyboardInterrupt\u001b[0m\u001b[0;34m:\u001b[0m\u001b[0;34m\u001b[0m\u001b[0;34m\u001b[0m\u001b[0m\n\u001b[1;32m    894\u001b[0m                 \u001b[0;31m# re-raise KeyboardInterrupt, to truncate traceback\u001b[0m\u001b[0;34m\u001b[0m\u001b[0;34m\u001b[0m\u001b[0m\n\u001b[0;32m--> 895\u001b[0;31m                 \u001b[0;32mraise\u001b[0m \u001b[0mKeyboardInterrupt\u001b[0m\u001b[0;34m(\u001b[0m\u001b[0;34m\"Interrupted by user\"\u001b[0m\u001b[0;34m)\u001b[0m \u001b[0;32mfrom\u001b[0m \u001b[0;32mNone\u001b[0m\u001b[0;34m\u001b[0m\u001b[0;34m\u001b[0m\u001b[0m\n\u001b[0m\u001b[1;32m    896\u001b[0m             \u001b[0;32mexcept\u001b[0m \u001b[0mException\u001b[0m \u001b[0;32mas\u001b[0m \u001b[0me\u001b[0m\u001b[0;34m:\u001b[0m\u001b[0;34m\u001b[0m\u001b[0;34m\u001b[0m\u001b[0m\n\u001b[1;32m    897\u001b[0m                 \u001b[0mself\u001b[0m\u001b[0;34m.\u001b[0m\u001b[0mlog\u001b[0m\u001b[0;34m.\u001b[0m\u001b[0mwarning\u001b[0m\u001b[0;34m(\u001b[0m\u001b[0;34m\"Invalid Message:\"\u001b[0m\u001b[0;34m,\u001b[0m \u001b[0mexc_info\u001b[0m\u001b[0;34m=\u001b[0m\u001b[0;32mTrue\u001b[0m\u001b[0;34m)\u001b[0m\u001b[0;34m\u001b[0m\u001b[0;34m\u001b[0m\u001b[0m\n",
            "\u001b[0;31mKeyboardInterrupt\u001b[0m: Interrupted by user"
          ]
        }
      ]
    },
    {
      "cell_type": "code",
      "source": [
        "n = int(input())\n",
        "sum = 0\n",
        "for i in range(1, n+1):\n",
        "  sum += i\n",
        "print(f\"{n}까지의 합 : {sum}\")\n",
        "sum = 0\n",
        "for i in range(1, n+1, 2):\n",
        "  sum += i\n",
        "print(f\"{n}까지의 홀수의 합 : {sum}\")\n"
      ],
      "metadata": {
        "id": "1zEn0F1k5E1i",
        "outputId": "a4463e00-fd4d-4a2b-abd0-b6ba2d207bc8",
        "colab": {
          "base_uri": "https://localhost:8080/"
        }
      },
      "execution_count": null,
      "outputs": [
        {
          "output_type": "stream",
          "name": "stdout",
          "text": [
            "5\n",
            "5까지의 합 : 15\n",
            "5까지의 홀수의 합 : 9\n"
          ]
        }
      ]
    },
    {
      "cell_type": "code",
      "source": [
        "n = int(input(\"몇 초?: \"))\n",
        "for i in range(n, 0, -1):\n",
        "  print(i, end = \" \")\n",
        "print(\"발사!!\")"
      ],
      "metadata": {
        "colab": {
          "base_uri": "https://localhost:8080/"
        },
        "id": "ICXcJsvN6ZRF",
        "outputId": "eebf00eb-37f5-4705-8035-d8193b57048a"
      },
      "execution_count": null,
      "outputs": [
        {
          "output_type": "stream",
          "name": "stdout",
          "text": [
            "몇 초?: 5\n",
            "5 4 3 2 1 발사!!\n"
          ]
        }
      ]
    },
    {
      "cell_type": "code",
      "source": [
        "n = int(input(\"몇 단을 출력할까요? \"))\n",
        "for i in range(1, 10):\n",
        "  print(f\"{n} * {i} = {n * i}\")\n"
      ],
      "metadata": {
        "id": "r-zKRDIpPwqv",
        "outputId": "3dfcd16f-bbd5-4220-cd79-9bc7f5cc1ba3",
        "colab": {
          "base_uri": "https://localhost:8080/"
        }
      },
      "execution_count": null,
      "outputs": [
        {
          "output_type": "stream",
          "name": "stdout",
          "text": [
            "몇 단을 출력할까요? 3\n",
            "3 * 1 = 3\n",
            "3 * 2 = 6\n",
            "3 * 3 = 9\n",
            "3 * 4 = 12\n",
            "3 * 5 = 15\n",
            "3 * 6 = 18\n",
            "3 * 7 = 21\n",
            "3 * 8 = 24\n",
            "3 * 9 = 27\n"
          ]
        }
      ]
    },
    {
      "cell_type": "code",
      "source": [
        "n = int(input(\"몇 줄? > \"))\n",
        "a = \"*\"\n",
        "for i in range(0,n):\n",
        "  print(a)\n",
        "  a += \"*\""
      ],
      "metadata": {
        "colab": {
          "base_uri": "https://localhost:8080/"
        },
        "id": "eZXZpjMXRnRo",
        "outputId": "8cb5a93b-e4a8-4977-d870-f1809eac64dd"
      },
      "execution_count": 12,
      "outputs": [
        {
          "output_type": "stream",
          "name": "stdout",
          "text": [
            "몇 줄? > 4\n",
            "*\n",
            "**\n",
            "***\n",
            "****\n"
          ]
        }
      ]
    },
    {
      "cell_type": "code",
      "source": [
        "n = int(input(\"몇 줄? > \"))\n",
        "a = \"*\"\n",
        "for i in range(0,n):\n",
        "  print(a.rjust(n))\n",
        "  a += \"*\""
      ],
      "metadata": {
        "colab": {
          "base_uri": "https://localhost:8080/"
        },
        "id": "RSwqAJhsR8mn",
        "outputId": "11ac451a-6c47-451a-fb31-d5c5c1847c2e"
      },
      "execution_count": 4,
      "outputs": [
        {
          "output_type": "stream",
          "name": "stdout",
          "text": [
            "몇 줄? > 5\n",
            "    *\n",
            "   **\n",
            "  ***\n",
            " ****\n",
            "*****\n"
          ]
        }
      ]
    },
    {
      "cell_type": "code",
      "source": [
        "n = int(input(\"몇 줄? > \"))\n",
        "a = \"*\"\n",
        "for i in range(0,n):\n",
        "  print(a.center(n*2))\n",
        "  a += \"**\""
      ],
      "metadata": {
        "colab": {
          "base_uri": "https://localhost:8080/"
        },
        "id": "9OR3jFPxSPFN",
        "outputId": "0e9e24bc-b482-4b93-b9a2-bb5c25e07f28"
      },
      "execution_count": 11,
      "outputs": [
        {
          "output_type": "stream",
          "name": "stdout",
          "text": [
            "몇 줄? > 4\n",
            "   *    \n",
            "  ***   \n",
            " *****  \n",
            "******* \n"
          ]
        }
      ]
    },
    {
      "cell_type": "code",
      "source": [
        "num_list = list(map(int, input(\"숫자 여러 개 입력 >\").split()))\n",
        "print(num_list)\n",
        "print(\"가장 큰 값: \",max(num_list))\n",
        "num_list.remove(max(num_list))\n",
        "print(\"가장 작은 값: \", min(num_list))\n",
        "num_list.remove(min(num_list))\n",
        "print(\"나머지 값의 평균: \",sum(num_list)/len(num_list))"
      ],
      "metadata": {
        "colab": {
          "base_uri": "https://localhost:8080/"
        },
        "id": "9JgoroEVX1_P",
        "outputId": "6e873adc-11b2-4ceb-8fad-f5909b46ce26"
      },
      "execution_count": 23,
      "outputs": [
        {
          "output_type": "stream",
          "name": "stdout",
          "text": [
            "숫자 여러 개 입력 >50 30 40 10 20\n",
            "[50, 30, 40, 10, 20]\n",
            "가장 큰 값:  50\n",
            "가장 작은 값:  10\n",
            "나머지 값의 평균:  30.0\n"
          ]
        }
      ]
    },
    {
      "cell_type": "code",
      "source": [
        "#백준 14425\n",
        "import sys\n",
        "input = sys.stdin.readline\n",
        "count = 0\n",
        "list = set()\n",
        "list2 = []\n",
        "N, M = map(int, input().split())\n",
        "for i in range(0, N):\n",
        "    list.add(input())\n",
        "for i in range(0, M):\n",
        "    list2.append(input())\n",
        "for i in range(0, M):\n",
        "    if list2[i] in list:\n",
        "        count += 1\n",
        "print(count)"
      ],
      "metadata": {
        "id": "m0uV1pSkoEFc"
      },
      "execution_count": null,
      "outputs": []
    }
  ]
}