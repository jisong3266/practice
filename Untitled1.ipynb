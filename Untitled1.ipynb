{
  "nbformat": 4,
  "nbformat_minor": 0,
  "metadata": {
    "colab": {
      "provenance": [],
      "authorship_tag": "ABX9TyNxUKHG4dG6iAGkZFIKiWJ9",
      "include_colab_link": true
    },
    "kernelspec": {
      "name": "python3",
      "display_name": "Python 3"
    },
    "language_info": {
      "name": "python"
    }
  },
  "cells": [
    {
      "cell_type": "markdown",
      "metadata": {
        "id": "view-in-github",
        "colab_type": "text"
      },
      "source": [
        "<a href=\"https://colab.research.google.com/github/jisong3266/practice/blob/main/Untitled1.ipynb\" target=\"_parent\"><img src=\"https://colab.research.google.com/assets/colab-badge.svg\" alt=\"Open In Colab\"/></a>"
      ]
    },
    {
      "cell_type": "code",
      "execution_count": null,
      "metadata": {
        "colab": {
          "base_uri": "https://localhost:8080/"
        },
        "id": "KnQRq23UC44T",
        "outputId": "9fc72e67-aaf4-432e-83a1-945c1fa35ea4"
      },
      "outputs": [
        {
          "output_type": "stream",
          "name": "stdout",
          "text": [
            "Chris\n",
            "Hello\n",
            "Welcome to Codeit!\n"
          ]
        }
      ],
      "source": [
        "#함수\n",
        "def hello(name):\n",
        "  print(name)\n",
        "  print(\"Hello\")\n",
        "  print(\"Welcome to Codeit!\")\n",
        "\n",
        "hello(\"Chris\")"
      ]
    },
    {
      "cell_type": "code",
      "source": [
        "def print_sum(a,b):\n",
        "  return a + b\n",
        "\n",
        "print_sum(3.0, 5)"
      ],
      "metadata": {
        "colab": {
          "base_uri": "https://localhost:8080/"
        },
        "id": "wJSQp1oQDOms",
        "outputId": "107c90d9-6e88-4cf6-db2f-dc52c9f9b6af"
      },
      "execution_count": null,
      "outputs": [
        {
          "output_type": "execute_result",
          "data": {
            "text/plain": [
              "8.0"
            ]
          },
          "metadata": {},
          "execution_count": 4
        }
      ]
    },
    {
      "cell_type": "code",
      "source": [
        "a = int(input())\n",
        "b = int(input())\n",
        "b1 = b // 100\n",
        "b2 = (b % 100) // 10\n",
        "b3 = (b % 10)\n",
        "c = a * b3\n",
        "d = a * b2\n",
        "e = a * b1\n",
        "answer = a * b\n",
        "print(c)\n",
        "print(d)\n",
        "print(e)\n",
        "print(answer)"
      ],
      "metadata": {
        "id": "eRDSyPf_FiaL",
        "colab": {
          "base_uri": "https://localhost:8080/"
        },
        "outputId": "fa1527db-9b69-4c7c-8650-07c7b2887b9a"
      },
      "execution_count": null,
      "outputs": [
        {
          "output_type": "stream",
          "name": "stdout",
          "text": [
            "472\n",
            "385\n",
            "2360\n",
            "3776\n",
            "1416\n",
            "181720\n"
          ]
        }
      ]
    },
    {
      "cell_type": "code",
      "source": [
        "a = [\"1\", \"2\", \"1\", \"1\"]\n",
        "a.index(\"1\", 0)"
      ],
      "metadata": {
        "colab": {
          "base_uri": "https://localhost:8080/"
        },
        "id": "qghak4LSWUTH",
        "outputId": "f410b6cf-88ef-499d-c29d-6305c79aa11d"
      },
      "execution_count": null,
      "outputs": [
        {
          "output_type": "execute_result",
          "data": {
            "text/plain": [
              "0"
            ]
          },
          "metadata": {},
          "execution_count": 13
        }
      ]
    },
    {
      "cell_type": "code",
      "source": [
        "rainbow = [\"red\", \"orange\", \"yellow\", \"green\", \"blue\", 'indigo', \"purple\"]\n",
        "\n",
        "print(rainbow[2])\n",
        "print(sorted(rainbow))\n",
        "rainbow.append(\"yellow\")\n",
        "print(rainbow)\n",
        "del rainbow[2:6]\n",
        "print(rainbow)\n"
      ],
      "metadata": {
        "colab": {
          "base_uri": "https://localhost:8080/"
        },
        "id": "VgPgfxM3XRYB",
        "outputId": "7a825ff4-d954-4aec-c4bc-d933a1fe2ec8"
      },
      "execution_count": null,
      "outputs": [
        {
          "output_type": "stream",
          "name": "stdout",
          "text": [
            "yellow\n",
            "['blue', 'green', 'indigo', 'orange', 'purple', 'red', 'yellow']\n",
            "['red', 'orange', 'yellow', 'green', 'blue', 'indigo', 'purple', 'yellow']\n",
            "['red', 'orange', 'purple', 'yellow']\n"
          ]
        }
      ]
    },
    {
      "cell_type": "code",
      "source": [
        "a = int(input())\n",
        "if(a % 2 == 0):\n",
        "  print(\"짝수\")\n",
        "else:\n",
        "  print(\"홀수\")"
      ],
      "metadata": {
        "colab": {
          "base_uri": "https://localhost:8080/"
        },
        "id": "9cTIs-I_eJ1p",
        "outputId": "331d250a-4fb1-4353-f29e-98e18cb51663"
      },
      "execution_count": null,
      "outputs": [
        {
          "output_type": "stream",
          "name": "stdout",
          "text": [
            "29\n",
            "홀수\n"
          ]
        }
      ]
    },
    {
      "cell_type": "code",
      "source": [
        "score = int(input())\n",
        "\n",
        "if score >= 90:\n",
        "  print(\"A\")\n",
        "elif score >= 80:\n",
        "  print(\"B\")\n",
        "elif score >= 70:\n",
        "  print(\"C\")\n",
        "elif score >= 60:\n",
        "  print(\"D\")\n",
        "else:\n",
        "  print(\"E\")"
      ],
      "metadata": {
        "colab": {
          "base_uri": "https://localhost:8080/"
        },
        "id": "YO4BgcRbj9eI",
        "outputId": "9a906f71-592b-4164-b8b7-cb76ecaaf4af"
      },
      "execution_count": null,
      "outputs": [
        {
          "output_type": "stream",
          "name": "stdout",
          "text": [
            "78\n",
            "C\n"
          ]
        }
      ]
    },
    {
      "cell_type": "code",
      "source": [
        "# @title 기본 제목 텍스트\n",
        "age = int(input(\"나이를 숫자로 입력해 주세요: \"))\n",
        "box = input(\"결제 방법을 입력해주세요. ('카드' 또는 '현금'만 입력): \")\n",
        "card = [450, 720, 1200]\n",
        "cash = [450, 1000, 1300]\n",
        "payment = cash\n",
        "price = \"무료\"\n",
        "if box == \"카드\":\n",
        "  payment = card\n",
        "if age < 14:\n",
        "  price = payment[0]\n",
        "elif age < 20:\n",
        "  price = payment[1]\n",
        "elif age < 75:\n",
        "  price = payment[2]\n",
        "print(f\"{age}세의 {box}요금은 {price}입니다.\")"
      ],
      "metadata": {
        "colab": {
          "base_uri": "https://localhost:8080/"
        },
        "id": "PftCvZs-mjDe",
        "outputId": "0fd46526-462d-4e19-83a9-9e9b2ff1ad64"
      },
      "execution_count": null,
      "outputs": [
        {
          "output_type": "stream",
          "name": "stdout",
          "text": [
            "나이를 숫자로 입력해 주세요: 79\n",
            "결제 방법을 입력해주세요. ('카드' 또는 '현금'만 입력): 현금\n",
            "79세의 현금요금은 무료입니다.\n"
          ]
        }
      ]
    }
  ]
}